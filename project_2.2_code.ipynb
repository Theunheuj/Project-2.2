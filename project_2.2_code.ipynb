{
 "cells": [
  {
   "cell_type": "code",
   "execution_count": 1,
   "id": "8ee1f2dd",
   "metadata": {},
   "outputs": [],
   "source": [
    "import numpy as np\n",
    "import random\n",
    "import matplotlib.pyplot as plt\n",
    "import pandas as pd\n",
    "import csv"
   ]
  },
  {
   "cell_type": "code",
   "execution_count": 63,
   "id": "9cfdfeb4",
   "metadata": {},
   "outputs": [
    {
     "name": "stdout",
     "output_type": "stream",
     "text": [
      "             X     CH1  Start  Increment\n",
      "0     Sequence     NaN    0.0      0.002\n",
      "1            0  1.5272    NaN        NaN\n",
      "2            1  1.3778    NaN        NaN\n",
      "3            2  1.5272    NaN        NaN\n",
      "4            3  1.3778    NaN        NaN\n",
      "...        ...     ...    ...        ...\n",
      "1396      1395  0.7138    NaN        NaN\n",
      "1397      1396  0.6806    NaN        NaN\n",
      "1398      1397  1.3778    NaN        NaN\n",
      "1399      1398  1.2118    NaN        NaN\n",
      "1400      1399  0.1992    NaN        NaN\n",
      "\n",
      "[1401 rows x 4 columns]\n"
     ]
    }
   ],
   "source": [
    "#laad het execel bestand in.\n",
    "data = pd.read_excel(r\"C:\\Users\\heika\\progamma's\\m5g.xlsx\")\n",
    "print(data)"
   ]
  },
  {
   "cell_type": "code",
   "execution_count": 64,
   "id": "cf525bad",
   "metadata": {},
   "outputs": [
    {
     "data": {
      "text/plain": [
       "0          NaN\n",
       "1       1.5272\n",
       "2       1.3778\n",
       "3       1.5272\n",
       "4       1.3778\n",
       "         ...  \n",
       "1396    0.7138\n",
       "1397    0.6806\n",
       "1398    1.3778\n",
       "1399    1.2118\n",
       "1400    0.1992\n",
       "Name: CH1, Length: 1401, dtype: float64"
      ]
     },
     "execution_count": 64,
     "metadata": {},
     "output_type": "execute_result"
    }
   ],
   "source": [
    "data['CH1']"
   ]
  },
  {
   "cell_type": "code",
   "execution_count": 67,
   "id": "193f8ba2",
   "metadata": {},
   "outputs": [
    {
     "name": "stdout",
     "output_type": "stream",
     "text": [
      "de hoeveelheid nummers die groter zijn dan 1.68 : 6\n"
     ]
    }
   ],
   "source": [
    "# vind de hoeveel heid nummers die groter zijn dan k\n",
    "\n",
    "# initializing k\n",
    "\n",
    "k = 1.68\n",
    " \n",
    "# to get numbers > k\n",
    "\n",
    "count = 0\n",
    "\n",
    "for i in data['CH1']:\n",
    "\n",
    "    if i > k:\n",
    "\n",
    "        count = count + 1\n",
    "\n",
    "# printing the intersection\n",
    "\n",
    "print(\"de hoeveelheid nummers die groter zijn dan \" +  str(k)+ \" : \" + str(count))"
   ]
  },
  {
   "cell_type": "code",
   "execution_count": 66,
   "id": "ff58807a",
   "metadata": {},
   "outputs": [],
   "source": [
    "i1=[5,10,15,20,25,30 ]\n",
    "N1=[6,8,13,50,120, 233 ]"
   ]
  },
  {
   "cell_type": "code",
   "execution_count": null,
   "id": "3ac6595b",
   "metadata": {},
   "outputs": [],
   "source": []
  },
  {
   "cell_type": "code",
   "execution_count": null,
   "id": "b64de194",
   "metadata": {},
   "outputs": [],
   "source": []
  }
 ],
 "metadata": {
  "kernelspec": {
   "display_name": "Python 3",
   "language": "python",
   "name": "python3"
  },
  "language_info": {
   "codemirror_mode": {
    "name": "ipython",
    "version": 3
   },
   "file_extension": ".py",
   "mimetype": "text/x-python",
   "name": "python",
   "nbconvert_exporter": "python",
   "pygments_lexer": "ipython3",
   "version": "3.8.8"
  }
 },
 "nbformat": 4,
 "nbformat_minor": 5
}
