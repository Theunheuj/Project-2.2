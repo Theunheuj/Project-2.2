{
 "cells": [
  {
   "cell_type": "code",
   "execution_count": 141,
   "id": "d7ec5343",
   "metadata": {},
   "outputs": [],
   "source": [
    "import numpy as np\n",
    "import matplotlib.pyplot as plt"
   ]
  },
  {
   "cell_type": "code",
   "execution_count": 142,
   "id": "8653334c",
   "metadata": {},
   "outputs": [
    {
     "data": {
      "text/plain": [
       "(7,)"
      ]
     },
     "execution_count": 142,
     "metadata": {},
     "output_type": "execute_result"
    }
   ],
   "source": [
    "n= 1.635\n",
    "i= np.linspace(0,30,7)\n",
    "i.shape"
   ]
  },
  {
   "cell_type": "code",
   "execution_count": 143,
   "id": "17d71635",
   "metadata": {},
   "outputs": [
    {
     "data": {
      "text/plain": [
       "(7,)"
      ]
     },
     "execution_count": 143,
     "metadata": {},
     "output_type": "execute_result"
    }
   ],
   "source": [
    "I=np.radians(i)\n",
    "r= np.arcsin(np.sin(I)/n)\n",
    "d= 1*10**-3\n",
    "la= 632.8*10**-9\n",
    "\n",
    "I.shape"
   ]
  },
  {
   "cell_type": "code",
   "execution_count": 144,
   "id": "662b3492",
   "metadata": {},
   "outputs": [
    {
     "data": {
      "text/plain": [
       "array([ 0.,  5., 10., 15., 20., 25., 30.])"
      ]
     },
     "execution_count": 144,
     "metadata": {},
     "output_type": "execute_result"
    }
   ],
   "source": [
    "i"
   ]
  },
  {
   "cell_type": "code",
   "execution_count": 145,
   "id": "ab5a9b89",
   "metadata": {},
   "outputs": [
    {
     "name": "stdout",
     "output_type": "stream",
     "text": [
      "[0.         0.08726646 0.17453293 0.26179939 0.34906585 0.43633231\n",
      " 0.52359878]\n"
     ]
    }
   ],
   "source": [
    "print(I)"
   ]
  },
  {
   "cell_type": "code",
   "execution_count": 146,
   "id": "ba6c3e15",
   "metadata": {},
   "outputs": [],
   "source": [
    "a=2*d/la"
   ]
  },
  {
   "cell_type": "code",
   "execution_count": 147,
   "id": "3644aa06",
   "metadata": {},
   "outputs": [
    {
     "name": "stdout",
     "output_type": "stream",
     "text": [
      "3160.556257901391\n"
     ]
    }
   ],
   "source": [
    "print(a)"
   ]
  },
  {
   "cell_type": "code",
   "execution_count": 148,
   "id": "f02e8b20",
   "metadata": {},
   "outputs": [],
   "source": [
    "b= n/np.cos(r)"
   ]
  },
  {
   "cell_type": "code",
   "execution_count": 149,
   "id": "13258d14",
   "metadata": {},
   "outputs": [
    {
     "name": "stdout",
     "output_type": "stream",
     "text": [
      "[1.635      1.63732794 1.64430006 1.65587863 1.67199158 1.69251848\n",
      " 1.71727024]\n"
     ]
    }
   ],
   "source": [
    "print(b)"
   ]
  },
  {
   "cell_type": "code",
   "execution_count": 150,
   "id": "bf6ab6a9",
   "metadata": {},
   "outputs": [],
   "source": [
    "c= np.tan(I)*np.sin(I)\n",
    "f=np.tan(r)*np.sin(I)"
   ]
  },
  {
   "cell_type": "code",
   "execution_count": 151,
   "id": "a5d2294c",
   "metadata": {},
   "outputs": [
    {
     "name": "stdout",
     "output_type": "stream",
     "text": [
      "[0.         0.00762514 0.03061886 0.06935035 0.12448515 0.19707013\n",
      " 0.28867513]\n"
     ]
    }
   ],
   "source": [
    "print(c)"
   ]
  },
  {
   "cell_type": "code",
   "execution_count": 152,
   "id": "d127b0f8",
   "metadata": {},
   "outputs": [],
   "source": [
    "d=(n-1)"
   ]
  },
  {
   "cell_type": "code",
   "execution_count": 153,
   "id": "920bcba7",
   "metadata": {},
   "outputs": [
    {
     "name": "stdout",
     "output_type": "stream",
     "text": [
      "0.635\n"
     ]
    }
   ],
   "source": [
    "print(d)"
   ]
  },
  {
   "cell_type": "code",
   "execution_count": 154,
   "id": "21913bc4",
   "metadata": {},
   "outputs": [],
   "source": [
    "e= 1/np.cos(I)"
   ]
  },
  {
   "cell_type": "code",
   "execution_count": 155,
   "id": "44561617",
   "metadata": {},
   "outputs": [
    {
     "name": "stdout",
     "output_type": "stream",
     "text": [
      "[1.         1.00381984 1.01542661 1.03527618 1.06417777 1.10337792\n",
      " 1.15470054]\n"
     ]
    }
   ],
   "source": [
    "print(e)"
   ]
  },
  {
   "cell_type": "code",
   "execution_count": 156,
   "id": "04357a6a",
   "metadata": {},
   "outputs": [],
   "source": [
    "B=(b+c-d-f-e)"
   ]
  },
  {
   "cell_type": "code",
   "execution_count": 157,
   "id": "4fbbd728",
   "metadata": {},
   "outputs": [
    {
     "name": "stdout",
     "output_type": "stream",
     "text": [
      "[0.         0.00148068 0.00594478 0.01345879 0.02413421 0.03812844\n",
      " 0.05564572]\n"
     ]
    }
   ],
   "source": [
    "print(B)"
   ]
  },
  {
   "cell_type": "code",
   "execution_count": 158,
   "id": "c79c30b2",
   "metadata": {},
   "outputs": [],
   "source": [
    "N=a*B"
   ]
  },
  {
   "cell_type": "code",
   "execution_count": 159,
   "id": "17b6dcab",
   "metadata": {},
   "outputs": [
    {
     "name": "stdout",
     "output_type": "stream",
     "text": [
      "[ 0.  5. 10. 15. 20. 25. 30.]\n"
     ]
    }
   ],
   "source": [
    "print(i)"
   ]
  },
  {
   "cell_type": "code",
   "execution_count": 160,
   "id": "6da69802",
   "metadata": {},
   "outputs": [
    {
     "name": "stdout",
     "output_type": "stream",
     "text": [
      "[  0.           4.67975916  18.7888231   42.53727527  76.27751532\n",
      " 120.50708922 175.87144113]\n"
     ]
    }
   ],
   "source": [
    "print(N)"
   ]
  },
  {
   "cell_type": "code",
   "execution_count": 161,
   "id": "cb2815b4",
   "metadata": {},
   "outputs": [
    {
     "data": {
      "text/plain": [
       "[<matplotlib.lines.Line2D at 0x16badbf19a0>]"
      ]
     },
     "execution_count": 161,
     "metadata": {},
     "output_type": "execute_result"
    },
    {
     "data": {
      "image/png": "[encoded data removed]",
      "text/plain": [
       "<Figure size 432x288 with 1 Axes>"
      ]
     },
     "metadata": {
      "needs_background": "light"
     },
     "output_type": "display_data"
    }
   ],
   "source": [
    "plt.plot(i,N,'.-')\n",
    "#plt.xlim((None,5))\n"
   ]
  },
  {
   "cell_type": "code",
   "execution_count": null,
   "id": "5954be14",
   "metadata": {},
   "outputs": [],
   "source": []
  },
  {
   "cell_type": "code",
   "execution_count": 162,
   "id": "4bd5a497",
   "metadata": {},
   "outputs": [],
   "source": [
    "i1=[5,10,15,20,25,30 ]\n",
    "N1=[6,8,13,56,118, 233 ]\n",
    "\n",
    "\n"
   ]
  },
  {
   "cell_type": "code",
   "execution_count": 163,
   "id": "d5b9ac53",
   "metadata": {},
   "outputs": [
    {
     "data": {
      "image/png": "[encoded data removed]",
      "text/plain": [
       "<Figure size 432x288 with 1 Axes>"
      ]
     },
     "metadata": {
      "needs_background": "light"
     },
     "output_type": "display_data"
    }
   ],
   "source": [
    "plt.plot(i, N, color='r', label='theoretische waarden')\n",
    "plt.plot(i1, N1,\"o\", color='black', label='gemeten punten')\n",
    "  \n",
    "# Naming the x-axis, y-axis and the whole graph\n",
    "plt.xlabel(\"hoek van inaval (graden)\")\n",
    "plt.ylabel(\"N\") \n",
    "yerr =2.86*5\n",
    "\n",
    "\n",
    "\n",
    "\n",
    "\n",
    "           \n",
    "# Adding legend, which helps us recognize the curve according to it's color\n",
    "plt.legend()\n",
    "plt.grid()\n",
    "  \n",
    "# To load the display window\n",
    "plt.show()\n"
   ]
  },
  {
   "cell_type": "code",
   "execution_count": null,
   "id": "24a914a8",
   "metadata": {},
   "outputs": [],
   "source": []
  }
 ],
 "metadata": {
  "kernelspec": {
   "display_name": "Python 3",
   "language": "python",
   "name": "python3"
  },
  "language_info": {
   "codemirror_mode": {
    "name": "ipython",
    "version": 3
   },
   "file_extension": ".py",
   "mimetype": "text/x-python",
   "name": "python",
   "nbconvert_exporter": "python",
   "pygments_lexer": "ipython3",
   "version": "3.8.8"
  }
 },
 "nbformat": 4,
 "nbformat_minor": 5
}
